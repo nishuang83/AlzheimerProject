{
 "cells": [
  {
   "cell_type": "code",
   "execution_count": 1,
   "metadata": {},
   "outputs": [],
   "source": [
    "import scanpy as sc\n",
    "import anndata\n",
    "import pandas as pd\n",
    "import matplotlib.pyplot as plt\n",
    "import matplotlib\n",
    "import seaborn as sns\n",
    "import phate\n",
    "import multiscale_phate as MSphate\n",
    "import pickle \n",
    "import scprep\n",
    "import numpy as np\n",
    "\n",
    "PROJECT_DIR=\"/home/shuangni/AlzheimerProject\""
   ]
  },
  {
   "cell_type": "code",
   "execution_count": 2,
   "metadata": {},
   "outputs": [
    {
     "name": "stdout",
     "output_type": "stream",
     "text": [
      "[0, 14, 64, 90, 95, 97, 110, 116, 124, 132, 145]\n"
     ]
    }
   ],
   "source": [
    "read_levels = open(PROJECT_DIR + '/results/'+'levels.pkl','rb')\n",
    "levels = pickle.load(read_levels)  \n",
    "print(levels)"
   ]
  },
  {
   "cell_type": "code",
   "execution_count": 3,
   "metadata": {},
   "outputs": [
    {
     "name": "stdout",
     "output_type": "stream",
     "text": [
      "<class 'numpy.ndarray'>\n",
      "(190, 2)\n"
     ]
    }
   ],
   "source": [
    "read_embedding = open(PROJECT_DIR + '/results/'+'embedding.pkl','rb')  \n",
    "embedding = pickle.load(read_embedding) \n",
    "print(type(embedding))\n",
    "print(embedding.shape)"
   ]
  },
  {
   "cell_type": "code",
   "execution_count": 3,
   "metadata": {},
   "outputs": [
    {
     "name": "stdout",
     "output_type": "stream",
     "text": [
      "(151,)\n"
     ]
    }
   ],
   "source": [
    "read_Xs = open(PROJECT_DIR + '/results/'+'Xs.pickle','rb')  \n",
    "Xs = pickle.load(read_Xs) \n",
    "print(Xs.shape)"
   ]
  },
  {
   "cell_type": "code",
   "execution_count": 4,
   "metadata": {},
   "outputs": [
    {
     "name": "stdout",
     "output_type": "stream",
     "text": [
      "(151, 70634)\n"
     ]
    }
   ],
   "source": [
    "NxTs = np.loadtxt(PROJECT_DIR + '/results/'+'NxTs.txt')\n",
    "print(NxTs.shape)"
   ]
  },
  {
   "cell_type": "code",
   "execution_count": 5,
   "metadata": {},
   "outputs": [
    {
     "name": "stdout",
     "output_type": "stream",
     "text": [
      "AnnData object with n_obs × n_vars = 70634 × 17926\n",
      "    obs: 'id', 'tsne1', 'tsne2', 'pre.cluster', 'celltype', 'Subcluster', 'apoe_genotype', 'braak_stage', 'cerad_score', 'age_death', 'sex', 'pmi', 'concensus_diagnosis', 'diagnosis_cerad', 'diagnosis', 'n_genes_by_counts', 'total_counts'\n",
      "    var: 'n_cells_by_counts', 'mean_counts', 'pct_dropout_by_counts', 'total_counts'\n"
     ]
    }
   ],
   "source": [
    "DATA_DIR_pp = PROJECT_DIR + '/data/msPHATE_data_pp.h5ad'\n",
    "data_pp = sc.read(DATA_DIR_pp)\n",
    "print(data_pp)"
   ]
  },
  {
   "cell_type": "code",
   "execution_count": null,
   "metadata": {},
   "outputs": [],
   "source": [
    "sns.scatterplot(x = NxTs[:,0], y = NxTs[:,1], hue=data_pp.obs.diagnosis, s = 5)"
   ]
  },
  {
   "cell_type": "code",
   "execution_count": null,
   "metadata": {},
   "outputs": [],
   "source": [
    "read_operator = open(PROJECT_DIR + '/results/'+'msphate_operator.pkl','rb')\n",
    "mp_op = pickle.load(read_operator)  "
   ]
  },
  {
   "cell_type": "code",
   "execution_count": null,
   "metadata": {},
   "outputs": [],
   "source": [
    "embedding, clusters, sizes = mp_op.transform(visualization_level = levels[2],cluster_level = levels[9])"
   ]
  },
  {
   "cell_type": "code",
   "execution_count": null,
   "metadata": {},
   "outputs": [],
   "source": [
    "plt.figure()\n",
    "scprep.plot.scatter2d(embedding, s = 100*np.sqrt(sizes), c = clusters,\n",
    "                      fontsize=16, ticks=False,label_prefix=\"Multiscale PHATE\", figsize=(10,8))\n",
    "plt.savefig(PROJECT_DIR + '/figures/'+ titles +'_all_fig_scprep.jpg')"
   ]
  },
  {
   "cell_type": "code",
   "execution_count": null,
   "metadata": {},
   "outputs": [],
   "source": []
  }
 ],
 "metadata": {
  "kernelspec": {
   "display_name": "Python 3.8.10 ('alz_env3.8': venv)",
   "language": "python",
   "name": "python3"
  },
  "language_info": {
   "codemirror_mode": {
    "name": "ipython",
    "version": 3
   },
   "file_extension": ".py",
   "mimetype": "text/x-python",
   "name": "python",
   "nbconvert_exporter": "python",
   "pygments_lexer": "ipython3",
   "version": "3.8.10"
  },
  "orig_nbformat": 4,
  "vscode": {
   "interpreter": {
    "hash": "4f63b13dbcb9f47bbf9a1811e0e17a21322f66c7ff5a1dd95eafc6f3f60af512"
   }
  }
 },
 "nbformat": 4,
 "nbformat_minor": 2
}
