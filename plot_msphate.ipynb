{
 "cells": [
  {
   "cell_type": "code",
   "execution_count": 1,
   "metadata": {},
   "outputs": [],
   "source": [
    "import scanpy as sc\n",
    "import anndata\n",
    "import pandas as pd\n",
    "import matplotlib.pyplot as plt\n",
    "import matplotlib\n",
    "import seaborn as sns\n",
    "import phate\n",
    "import multiscale_phate as MSphate\n",
    "import pickle \n",
    "\n",
    "PROJECT_DIR=\"/home/shuangni/AlzheimerProject\""
   ]
  },
  {
   "cell_type": "code",
   "execution_count": 2,
   "metadata": {},
   "outputs": [
    {
     "name": "stdout",
     "output_type": "stream",
     "text": [
      "[0, 14, 64, 90, 95, 97, 110, 116, 124, 132, 145]\n"
     ]
    }
   ],
   "source": [
    "read_levels = open(PROJECT_DIR + '/results/'+'levels.pkl','rb')\n",
    "levels = pickle.load(read_levels)  \n",
    "print(levels)"
   ]
  },
  {
   "cell_type": "code",
   "execution_count": 12,
   "metadata": {},
   "outputs": [
    {
     "name": "stdout",
     "output_type": "stream",
     "text": [
      "<class 'numpy.ndarray'>\n",
      "(190, 2)\n"
     ]
    }
   ],
   "source": [
    "read_embedding = open(PROJECT_DIR + '/results/'+'embedding.pkl','rb')  \n",
    "embedding = pickle.load(read_embedding) \n",
    "print(type(embedding))\n",
    "print(embedding.shape)"
   ]
  },
  {
   "cell_type": "code",
   "execution_count": 13,
   "metadata": {},
   "outputs": [
    {
     "ename": "",
     "evalue": "",
     "output_type": "error",
     "traceback": [
      "\u001b[1;31mCanceled future for execute_request message before replies were done"
     ]
    },
    {
     "ename": "",
     "evalue": "",
     "output_type": "error",
     "traceback": [
      "\u001b[1;31mThe Kernel crashed while executing code in the the current cell or a previous cell. Please review the code in the cell(s) to identify a possible cause of the failure. Click <a href='https://aka.ms/vscodeJupyterKernelCrash'>here</a> for more info. View Jupyter <a href='command:jupyter.viewOutput'>log</a> for further details."
     ]
    }
   ],
   "source": [
    "read_operator = open(PROJECT_DIR + '/results/'+'msphate_operator.pkl','rb') \n",
    "mp_op = pickle.load(read_operator) \n",
    "print(type(mp_op))"
   ]
  },
  {
   "cell_type": "code",
   "execution_count": null,
   "metadata": {},
   "outputs": [],
   "source": [
    "embedding, clusters, sizes = mp_op.transform(visualization_level = levels[2],cluster_level = levels[1])"
   ]
  }
 ],
 "metadata": {
  "kernelspec": {
   "display_name": "Python 3.8.10 ('alz_env3.8': venv)",
   "language": "python",
   "name": "python3"
  },
  "language_info": {
   "codemirror_mode": {
    "name": "ipython",
    "version": 3
   },
   "file_extension": ".py",
   "mimetype": "text/x-python",
   "name": "python",
   "nbconvert_exporter": "python",
   "pygments_lexer": "ipython3",
   "version": "3.8.10"
  },
  "orig_nbformat": 4,
  "vscode": {
   "interpreter": {
    "hash": "4f63b13dbcb9f47bbf9a1811e0e17a21322f66c7ff5a1dd95eafc6f3f60af512"
   }
  }
 },
 "nbformat": 4,
 "nbformat_minor": 2
}
