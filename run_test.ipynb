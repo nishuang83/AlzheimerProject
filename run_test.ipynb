{
 "cells": [
  {
   "cell_type": "code",
   "execution_count": 30,
   "metadata": {},
   "outputs": [],
   "source": [
    "import scanpy as sc\n",
    "import anndata\n",
    "import pandas as pd\n",
    "import matplotlib.pyplot as plt\n",
    "import matplotlib\n",
    "PROJECT_DIR = \"C:/Users/nishu/OneDrive - Universite de Montreal/AlzheimerProejct\""
   ]
  },
  {
   "cell_type": "code",
   "execution_count": 10,
   "metadata": {},
   "outputs": [
    {
     "ename": "AttributeError",
     "evalue": "'AnnData' object has no attribute 'head'",
     "output_type": "error",
     "traceback": [
      "\u001b[1;31m---------------------------------------------------------------------------\u001b[0m",
      "\u001b[1;31mAttributeError\u001b[0m                            Traceback (most recent call last)",
      "\u001b[1;32mc:\\Users\\nishu\\OneDrive - Universite de Montreal\\AlzheimerProejct\\run_test.ipynb Cell 2'\u001b[0m in \u001b[0;36m<cell line: 3>\u001b[1;34m()\u001b[0m\n\u001b[0;32m      <a href='vscode-notebook-cell:/c%3A/Users/nishu/OneDrive%20-%20Universite%20de%20Montreal/AlzheimerProejct/run_test.ipynb#ch0000001?line=0'>1</a>\u001b[0m DATA_DIR_raw \u001b[39m=\u001b[39m PROJECT_DIR \u001b[39m+\u001b[39m \u001b[39m'\u001b[39m\u001b[39m/data/msPHATE_data_raw.h5ad\u001b[39m\u001b[39m'\u001b[39m\n\u001b[0;32m      <a href='vscode-notebook-cell:/c%3A/Users/nishu/OneDrive%20-%20Universite%20de%20Montreal/AlzheimerProejct/run_test.ipynb#ch0000001?line=1'>2</a>\u001b[0m data_raw \u001b[39m=\u001b[39m sc\u001b[39m.\u001b[39mread_h5ad(DATA_DIR_raw)\n\u001b[1;32m----> <a href='vscode-notebook-cell:/c%3A/Users/nishu/OneDrive%20-%20Universite%20de%20Montreal/AlzheimerProejct/run_test.ipynb#ch0000001?line=2'>3</a>\u001b[0m \u001b[39mprint\u001b[39m(data_raw\u001b[39m.\u001b[39;49mhead())\n",
      "\u001b[1;31mAttributeError\u001b[0m: 'AnnData' object has no attribute 'head'"
     ]
    }
   ],
   "source": [
    "DATA_DIR_raw = PROJECT_DIR + '/data/msPHATE_data_raw.h5ad'\n",
    "data_raw = sc.read_h5ad(DATA_DIR_raw)\n",
    "print(data_raw)\n",
    "\n",
    "# AnnData object with n_obs × n_vars = 82159 × 32738\n",
    "# obs: 'id', 'amyloid', 'plaq_n', 'nft', 'tangles', 'cogn_global_lv', 'gpath', 'gpath_3neocort', 'amyloid.group', 'caa_4gp', 'ceradsc', 'braaksc', 'niareagansc', 'cogdx', 'msex', 'pathology.group', 'diagnosis'\n",
    "# var: 'gene_id'"
   ]
  },
  {
   "cell_type": "code",
   "execution_count": 19,
   "metadata": {},
   "outputs": [
    {
     "name": "stdout",
     "output_type": "stream",
     "text": [
      "barcode\n",
      "AAACGGGAGATCCCGC.1     11409232\n",
      "AAATGCCTCCAATGGT.1     11409232\n",
      "AACCATGTCAGTGCAT.1     11409232\n",
      "AACCATGTCTGTACGA.1     11409232\n",
      "AACCGCGTCCGCATAA.1     11409232\n",
      "                         ...   \n",
      "AGGCCGTAGAGCAATT.48    11302830\n",
      "AGTGAGGGTGCAACGA.48    11302830\n",
      "CACACTCTCTCTGAGA.48    11302830\n",
      "TAGTGGTAGAATGTTG.48    11302830\n",
      "TGCCCATAGTAGGTGC.48    11302830\n",
      "Name: id, Length: 70634, dtype: category\n",
      "Categories (48, object): ['10101291', '10101327', '10102206', '10222853', ..., '21172121', '21189544', '21412626', '76647134']\n"
     ]
    }
   ],
   "source": [
    "DATA_DIR_pp = PROJECT_DIR + '/data/msPHATE_data_pp.h5ad'\n",
    "data_pp = sc.read(DATA_DIR_pp)\n",
    "# print(data_pp.var[:10])\n",
    "# print(data_pp.obs.tsne1)\n",
    "print(data_pp.obs.id)\n",
    "# AnnData object with n_obs × n_vars = 70634 × 17926\n",
    "# obs: 'id', 'tsne1', 'tsne2', 'pre.cluster', 'celltype', 'Subcluster', 'apoe_genotype', 'braak_stage', 'cerad_score', 'age_death', 'sex', 'pmi', 'concensus_diagnosis', 'diagnosis_cerad', 'diagnosis', 'n_genes_by_counts', \n",
    "# 'total_counts'\n",
    "# var: 'n_cells_by_counts', 'mean_counts', 'pct_dropout_by_counts', 'total_counts'\n",
    "# print(data_pp.obs.tsne1])"
   ]
  },
  {
   "cell_type": "code",
   "execution_count": 42,
   "metadata": {},
   "outputs": [
    {
     "name": "stdout",
     "output_type": "stream",
     "text": [
      "barcode\n",
      "AAACGGGAGATCCCGC.1     11409232\n",
      "AAATGCCTCCAATGGT.1     11409232\n",
      "AACCATGTCAGTGCAT.1     11409232\n",
      "AACCATGTCTGTACGA.1     11409232\n",
      "AACCGCGTCCGCATAA.1     11409232\n",
      "                         ...   \n",
      "AGGCCGTAGAGCAATT.48    11302830\n",
      "AGTGAGGGTGCAACGA.48    11302830\n",
      "CACACTCTCTCTGAGA.48    11302830\n",
      "TAGTGGTAGAATGTTG.48    11302830\n",
      "TGCCCATAGTAGGTGC.48    11302830\n",
      "Name: id, Length: 70634, dtype: category\n",
      "Categories (48, object): ['10101291', '10101327', '10102206', '10222853', ..., '21172121', '21189544', '21412626', '76647134']\n",
      "{'11409232': '#003FFF'}\n"
     ]
    },
    {
     "data": {
      "image/png": "[encoded data removed]",
      "text/plain": [
       "<Figure size 432x288 with 1 Axes>"
      ]
     },
     "metadata": {
      "needs_background": "light"
     },
     "output_type": "display_data"
    }
   ],
   "source": [
    "######\n",
    "# tsne results\n",
    "######\n",
    "tsne1 = data_pp.obs.tsne1\n",
    "tsne2 = data_pp.obs.tsne2\n",
    "group = data_pp.obs.id\n",
    "print(group)\n",
    "colours = [\"#003FFF\", \"#28573F\", \"#FF0000\", \"#FF964F\", \"#FFCAE4\", \"#CB5590\", \"#A6D4FF\", \"#AD26FF\", \"#A9A9A9\", \"#B3F396\",\n",
    "           \"#40E0D0\", \"#8F1C55\", \"#03C0A4\", \"#FFD700\", \"#000000\", \"#009900\", \"#E3B778\", \"#003FFF\",\"#003FFF\",\"#003FFF\",\n",
    "           \"#003FFF\", \"#003FFF\", \"#003FFF\", \"#003FFF\", \"#003FFF\", \"#003FFF\", \"#003FFF\", \"#003FFF\",\"#003FFF\", \"#003FFF\", \n",
    "           \"#003FFF\", \"#003FFF\", \"#003FFF\", \"#003FFF\", \"#003FFF\", \"#003FFF\", \"#003FFF\", \"#003FFF\", \"#003FFF\", \"#003FFF\"\n",
    "           \"#003FFF\", \"#003FFF\", \"#003FFF\", \"#003FFF\", \"#003FFF\", \"#003FFF\", \"#003FFF\", \"#003FFF\"]\n",
    "# colours = matplotlib.colors('gist_rainbow')\n",
    "plt_colours = dict(zip(group, colours))\n",
    "print(plt_colours)\n",
    "plt.scatter(tsne1, tsne2, cmap=plt_colours)\n",
    "plt.show()"
   ]
  }
 ],
 "metadata": {
  "kernelspec": {
   "display_name": "Python 3.9.13 ('Alz_env')",
   "language": "python",
   "name": "python3"
  },
  "language_info": {
   "codemirror_mode": {
    "name": "ipython",
    "version": 3
   },
   "file_extension": ".py",
   "mimetype": "text/x-python",
   "name": "python",
   "nbconvert_exporter": "python",
   "pygments_lexer": "ipython3",
   "version": "3.9.13"
  },
  "orig_nbformat": 4,
  "vscode": {
   "interpreter": {
    "hash": "28b335e8bad381707ba734f4f10559eb3420f78179166bb25c1b8cfc2249267f"
   }
  }
 },
 "nbformat": 4,
 "nbformat_minor": 2
}
