{
 "cells": [
  {
   "cell_type": "code",
   "execution_count": null,
   "metadata": {},
   "outputs": [],
   "source": [
    "import scanpy as sc\n",
    "import numpy as np\n",
    "import scipy as sp\n",
    "import pandas as pd\n",
    "import matplotlib.pyplot as plt\n",
    "from matplotlib import rcParams\n",
    "from matplotlib import colors\n",
    "import seaborn as sb\n",
    "import pickle"
   ]
  },
  {
   "cell_type": "code",
   "execution_count": null,
   "metadata": {},
   "outputs": [],
   "source": [
    "data = sc.read('../data/msPHATE_data_raw.h5ad')"
   ]
  },
  {
   "cell_type": "code",
   "execution_count": null,
   "metadata": {},
   "outputs": [],
   "source": [
    "# plot highly expressed genes\n",
    "sc.pl.highest_expr_genes(data, n_top=20, )"
   ]
  },
  {
   "cell_type": "code",
   "execution_count": null,
   "metadata": {},
   "outputs": [],
   "source": [
    "data.var['mt'] = data.var_names.str.startswith('MT-')  # annotate the group of mitochondrial genes as 'mt'\n",
    "sc.pp.calculate_qc_metrics(data, qc_vars=['mt'], percent_top=None, log1p=False, inplace=True)"
   ]
  },
  {
   "cell_type": "code",
   "execution_count": null,
   "metadata": {},
   "outputs": [],
   "source": [
    "sc.pl.violin(data, ['n_genes_by_counts', 'total_counts', 'pct_counts_mt'],\n",
    "             jitter=0.4, multi_panel=True)"
   ]
  },
  {
   "cell_type": "code",
   "execution_count": null,
   "metadata": {},
   "outputs": [],
   "source": [
    "# remove mitochondrial gene counts\n",
    "data = data[:,~data.var['mt']]"
   ]
  },
  {
   "cell_type": "code",
   "execution_count": null,
   "metadata": {},
   "outputs": [],
   "source": [
    "# filter out cells with too high mitochondrial gene count\n",
    "data = data[data.obs.pct_counts_mt < 5, :]"
   ]
  },
  {
   "cell_type": "code",
   "execution_count": null,
   "metadata": {},
   "outputs": [],
   "source": [
    "# filter out cells with too few/many counts and genes\n",
    "data = data[data.obs.n_genes_by_counts < 8000, :]\n",
    "data = data[data.obs.total_counts < 25000, :]"
   ]
  },
  {
   "cell_type": "code",
   "execution_count": null,
   "metadata": {},
   "outputs": [],
   "source": [
    "sc.pp.filter_cells(data, min_genes=200)\n",
    "sc.pp.filter_genes(data, min_cells=2)"
   ]
  },
  {
   "cell_type": "code",
   "execution_count": null,
   "metadata": {},
   "outputs": [],
   "source": [
    "# plot highly expressed genes\n",
    "sc.pl.highest_expr_genes(data, n_top=20)"
   ]
  },
  {
   "cell_type": "code",
   "execution_count": null,
   "metadata": {},
   "outputs": [],
   "source": [
    "sc.pp.normalize_total(data, target_sum=1e4)\n",
    "sc.pp.log1p(data)"
   ]
  },
  {
   "cell_type": "markdown",
   "metadata": {},
   "source": [
    "# Celltype identification"
   ]
  },
  {
   "cell_type": "code",
   "execution_count": null,
   "metadata": {},
   "outputs": [],
   "source": [
    "sc.pp.pca(data)\n",
    "\n",
    "sc.pp.neighbors(data, n_pcs=15, n_neighbors=30)\n",
    "\n",
    "sc.tl.umap(data, min_dist=0.5, spread=1)"
   ]
  },
  {
   "cell_type": "code",
   "execution_count": null,
   "metadata": {},
   "outputs": [],
   "source": [
    "# cluster data (lower resolution = fewer clusters)\n",
    "sc.tl.leiden(data, resolution=0.1)"
   ]
  },
  {
   "cell_type": "code",
   "execution_count": null,
   "metadata": {},
   "outputs": [],
   "source": [
    "# identify neurons\n",
    "s = 8\n",
    "with plt.rc_context({'figure.figsize':[s,s]}):\n",
    "    # Ex\n",
    "    sc.pl.umap(data, color=['leiden', 'CAMK2A', 'SLC17A7'], size=15, legend_loc='on data')\n",
    "\n",
    "    # In\n",
    "    sc.pl.umap(data, color=['leiden', 'GAD1'], size=15, legend_loc='on data')\n",
    "\n",
    "    # Oli\n",
    "    sc.pl.umap(data, color=['leiden', 'MOG', 'MOBP'], size=15, legend_loc='on data')"
   ]
  },
  {
   "cell_type": "code",
   "execution_count": null,
   "metadata": {},
   "outputs": [],
   "source": [
    "s = 8\n",
    "size = 60\n",
    "with plt.rc_context({'figure.figsize':[s,s]}):\n",
    "    # Mic\n",
    "    sc.pl.umap(data, color=['leiden', 'CD74', 'C3'], size=size, legend_loc='on data', title='Mic');\n",
    "\n",
    "    # End\n",
    "    sc.pl.umap(data, color=['leiden', 'CLDN5'], size=size, legend_loc='on data', title='End') # PECAM1, CDH5, TIE1\n",
    "\n",
    "    # lymphocytes\n",
    "    sc.pl.umap(data, color=['leiden', 'IL7R', 'MS4A1'], size=size, legend_loc='on data', title='lymphocyte')\n",
    "\n",
    "    # perivascular macrophages (non-microglia macrophages)\n",
    "    sc.pl.umap(data, color=['leiden', 'CD163', 'SIGLEC1'], size=size, legend_loc='on data', title='macrophage') # MRC1, LYVE1\n",
    "\n",
    "    # Ast\n",
    "    sc.pl.umap(data, color=['leiden', 'GFAP', 'AQP4'], size=size, legend_loc='on data', title='Ast')\n",
    "\n",
    "    # Opc\n",
    "    sc.pl.umap(data, color=['leiden', 'PDGFRA', 'VCAN'], size=size, legend_loc='on data', title='Opc')"
   ]
  },
  {
   "cell_type": "code",
   "execution_count": null,
   "metadata": {},
   "outputs": [],
   "source": [
    "# assign clusters to celltypes\n",
    "celltype_leiden = {'Ast':[], 'Opc':[], 'Mic':[0], 'End':[], 'Mac':[], 'Lymph':[]}\n",
    "def assign_celltype(row):\n",
    "    for cell in celltype_leiden.keys():\n",
    "        if(int(row['leiden']) in celltype_leiden[cell]):\n",
    "            return cell\n",
    "    \n",
    "    return 'Other'\n",
    "\n",
    "data.obs['celltype'] = data.obs.apply(lambda row: assign_celltype(row), axis=1)"
   ]
  }
 ],
 "metadata": {
  "interpreter": {
   "hash": "c5169af85f5023cc4c2fea288b97483cc61fa2093ddd8ea31e42060c7c504a03"
  },
  "kernelspec": {
   "display_name": "Python 3.9.7 ('base')",
   "language": "python",
   "name": "python3"
  },
  "language_info": {
   "name": "python",
   "version": "3.9.7"
  },
  "orig_nbformat": 4
 },
 "nbformat": 4,
 "nbformat_minor": 2
}
