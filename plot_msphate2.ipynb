{
 "cells": [
  {
   "cell_type": "code",
   "execution_count": 1,
   "metadata": {},
   "outputs": [],
   "source": [
    "import scanpy as sc\n",
    "import pandas as pd\n",
    "import matplotlib.pyplot as plt\n",
    "import matplotlib\n",
    "import seaborn as sns\n",
    "import multiscale_phate as MSphate\n",
    "import pickle \n",
    "import scprep\n",
    "import numpy as np\n",
    "\n",
    "\n",
    "PROJECT_DIR=\"/home/shuangni/AlzheimerProject\""
   ]
  },
  {
   "cell_type": "markdown",
   "metadata": {},
   "source": [
    "##### NxTs : list of lists\n",
    "        Cluster assignment for every point at all levels of Diffusion\n",
    "        Condensation tree\n",
    "##### Xs : list of 2D numpy arrays\n",
    "        List of condensed diffusion potentials"
   ]
  },
  {
   "cell_type": "code",
   "execution_count": 4,
   "metadata": {},
   "outputs": [
    {
     "name": "stdout",
     "output_type": "stream",
     "text": [
      "(151, 70634)\n"
     ]
    }
   ],
   "source": [
    "NxTs = np.loadtxt(PROJECT_DIR + '/results/'+'NxTs.txt')  \n",
    "print(NxTs.shape) "
   ]
  },
  {
   "cell_type": "code",
   "execution_count": 11,
   "metadata": {},
   "outputs": [
    {
     "name": "stdout",
     "output_type": "stream",
     "text": [
      "[ 1.  2.  1.  4.  1.  1.  4.  8.  9. 10. 10. 10. 13. 14. 15. 16. 17. 13.\n",
      " 19.  8. 21.  4. 23.  1.  1. 26.  0. 15. 29.  1.  0. 32. 33. 29. 35. 36.\n",
      " 33. 38. 39. 21. 14.  0. 33. 44. 32.  0. 33. 48. 49. 14. 51. 52.  1. 21.\n",
      " 21. 56. 14. 14. 59.  2. 61. 10. 14.  1.  0. 66. 67. 21. 10. 33. 71. 72.\n",
      "  1. 13. 10. 10. 21. 17.  4. 29. 14. 33.  0. 36. 85. 86. 87. 88. 56. 90.\n",
      " 61. 72. 61.  0. 33. 56.  1. 33.]\n"
     ]
    }
   ],
   "source": [
    "print(NxTs[13,1:99]) "
   ]
  },
  {
   "cell_type": "code",
   "execution_count": 2,
   "metadata": {},
   "outputs": [
    {
     "name": "stdout",
     "output_type": "stream",
     "text": [
      "(151,)\n"
     ]
    }
   ],
   "source": [
    "read_Xs = open(PROJECT_DIR + '/results/'+'Xs.pickle','rb')\n",
    "Xs = pickle.load(read_Xs)  \n",
    "print(Xs.shape)"
   ]
  },
  {
   "cell_type": "code",
   "execution_count": 25,
   "metadata": {},
   "outputs": [
    {
     "name": "stdout",
     "output_type": "stream",
     "text": [
      "56483\n"
     ]
    }
   ],
   "source": [
    "print(Xs[5].size)"
   ]
  },
  {
   "cell_type": "code",
   "execution_count": null,
   "metadata": {},
   "outputs": [],
   "source": [
    "scprep.plot.scatter2d(embedding,  fontsize=16, ticks=False,label_prefix=\"Multiscale PHATE\", figsize=(10,8))"
   ]
  }
 ],
 "metadata": {
  "kernelspec": {
   "display_name": "Python 3.8.10 ('alz_env3.8': venv)",
   "language": "python",
   "name": "python3"
  },
  "language_info": {
   "codemirror_mode": {
    "name": "ipython",
    "version": 3
   },
   "file_extension": ".py",
   "mimetype": "text/x-python",
   "name": "python",
   "nbconvert_exporter": "python",
   "pygments_lexer": "ipython3",
   "version": "3.8.10 (default, Jun 16 2021, 14:20:20) \n[GCC 9.3.0]"
  },
  "orig_nbformat": 4,
  "vscode": {
   "interpreter": {
    "hash": "4f63b13dbcb9f47bbf9a1811e0e17a21322f66c7ff5a1dd95eafc6f3f60af512"
   }
  }
 },
 "nbformat": 4,
 "nbformat_minor": 2
}
